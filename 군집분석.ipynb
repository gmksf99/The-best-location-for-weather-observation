{
 "cells": [
  {
   "cell_type": "code",
   "execution_count": 2,
   "id": "01f8e0f2-77e6-4c3a-9eff-6873bfb8ca0c",
   "metadata": {},
   "outputs": [],
   "source": [
    "# 경고(warning) 비표시\n",
    "import warnings\n",
    "warnings.filterwarnings('ignore')"
   ]
  },
  {
   "cell_type": "code",
   "execution_count": 3,
   "id": "2511c6a5-4a7f-4212-80c9-21e85b56053e",
   "metadata": {},
   "outputs": [
    {
     "data": {
      "text/html": [
       "<div>\n",
       "<style scoped>\n",
       "    .dataframe tbody tr th:only-of-type {\n",
       "        vertical-align: middle;\n",
       "    }\n",
       "\n",
       "    .dataframe tbody tr th {\n",
       "        vertical-align: top;\n",
       "    }\n",
       "\n",
       "    .dataframe thead th {\n",
       "        text-align: right;\n",
       "    }\n",
       "</style>\n",
       "<table border=\"1\" class=\"dataframe\">\n",
       "  <thead>\n",
       "    <tr style=\"text-align: right;\">\n",
       "      <th></th>\n",
       "      <th>density</th>\n",
       "      <th>distan</th>\n",
       "    </tr>\n",
       "  </thead>\n",
       "  <tbody>\n",
       "    <tr>\n",
       "      <th>0</th>\n",
       "      <td>0.007117</td>\n",
       "      <td>0.000813</td>\n",
       "    </tr>\n",
       "    <tr>\n",
       "      <th>1</th>\n",
       "      <td>0.249110</td>\n",
       "      <td>0.001010</td>\n",
       "    </tr>\n",
       "    <tr>\n",
       "      <th>2</th>\n",
       "      <td>0.007117</td>\n",
       "      <td>0.000679</td>\n",
       "    </tr>\n",
       "    <tr>\n",
       "      <th>3</th>\n",
       "      <td>0.007117</td>\n",
       "      <td>0.000492</td>\n",
       "    </tr>\n",
       "    <tr>\n",
       "      <th>4</th>\n",
       "      <td>0.017794</td>\n",
       "      <td>0.000724</td>\n",
       "    </tr>\n",
       "    <tr>\n",
       "      <th>...</th>\n",
       "      <td>...</td>\n",
       "      <td>...</td>\n",
       "    </tr>\n",
       "    <tr>\n",
       "      <th>778</th>\n",
       "      <td>0.227758</td>\n",
       "      <td>0.000208</td>\n",
       "    </tr>\n",
       "    <tr>\n",
       "      <th>779</th>\n",
       "      <td>0.199288</td>\n",
       "      <td>0.000803</td>\n",
       "    </tr>\n",
       "    <tr>\n",
       "      <th>780</th>\n",
       "      <td>0.067616</td>\n",
       "      <td>0.000652</td>\n",
       "    </tr>\n",
       "    <tr>\n",
       "      <th>781</th>\n",
       "      <td>0.220641</td>\n",
       "      <td>0.000736</td>\n",
       "    </tr>\n",
       "    <tr>\n",
       "      <th>782</th>\n",
       "      <td>0.021352</td>\n",
       "      <td>0.001539</td>\n",
       "    </tr>\n",
       "  </tbody>\n",
       "</table>\n",
       "<p>783 rows × 2 columns</p>\n",
       "</div>"
      ],
      "text/plain": [
       "      density    distan\n",
       "0    0.007117  0.000813\n",
       "1    0.249110  0.001010\n",
       "2    0.007117  0.000679\n",
       "3    0.007117  0.000492\n",
       "4    0.017794  0.000724\n",
       "..        ...       ...\n",
       "778  0.227758  0.000208\n",
       "779  0.199288  0.000803\n",
       "780  0.067616  0.000652\n",
       "781  0.220641  0.000736\n",
       "782  0.021352  0.001539\n",
       "\n",
       "[783 rows x 2 columns]"
      ]
     },
     "execution_count": 3,
     "metadata": {},
     "output_type": "execute_result"
    }
   ],
   "source": [
    "from sklearn.preprocessing import scale\n",
    "from sklearn.cluster import KMeans\n",
    "import matplotlib.pyplot as plt\n",
    "import numpy as np\n",
    "import pandas as pd\n",
    "from sklearn.preprocessing import MinMaxScaler\n",
    "\n",
    "df = pd.read_csv('집계구_변수개수_가중치대입(각).csv', encoding='euc-kr')\n",
    "df2 = df.iloc[:, 2:]\n",
    "df2\n",
    "\n",
    "# df2 = df[['area', 'value', 'density', 'workman', 'marketNum', 'restaurant', 'distan', 'riverNum','parkNum', 'waterNum']]\n",
    "df2 = df[['density','distan']]\n",
    "df2 = MinMaxScaler().fit_transform(df2)\n",
    "df2 = pd.DataFrame(df2, columns=['density', 'distan'])\n",
    "# df2 = pd.DataFrame(df2, columns=['area', 'value', 'density', 'workman', 'marketNum', 'restaurant', 'distan','riverNum', 'parkNum', 'waterNum'])\n",
    "df2.isnull().sum()\n",
    "df2"
   ]
  },
  {
   "cell_type": "code",
   "execution_count": 50,
   "id": "6093a5cb-85f9-4cc7-9e86-df5a62419926",
   "metadata": {},
   "outputs": [
    {
     "data": {
      "image/png": "[encoded data removed]",
      "text/plain": [
       "<Figure size 432x288 with 1 Axes>"
      ]
     },
     "metadata": {
      "needs_background": "light"
     },
     "output_type": "display_data"
    }
   ],
   "source": [
    "def elbow(x):\n",
    "    sse = []\n",
    "    for i in range(1, 11):\n",
    "        km = KMeans(n_clusters=i,random_state=0, init='k-means++').fit(x)\n",
    "        sse.append(km.inertia_)\n",
    "\n",
    "    plt.plot(range(1,11), sse, marker='o')\n",
    "    plt.xlabel('클러스터 개수')\n",
    "    plt.ylabel('SSE')\n",
    "    plt.show()\n",
    "\n",
    "elbow(df2)"
   ]
  },
  {
   "cell_type": "code",
   "execution_count": 6,
   "id": "ac2b36bf-4cb8-4038-92e5-2a14f54f9a2a",
   "metadata": {},
   "outputs": [
    {
     "data": {
      "image/png": "[encoded data removed]",
      "text/plain": [
       "<Figure size 720x576 with 1 Axes>"
      ]
     },
     "metadata": {
      "needs_background": "light"
     },
     "output_type": "display_data"
    }
   ],
   "source": [
    "kmeans = KMeans(n_clusters=3, random_state=0, init='k-means++').fit(df2)\n",
    "\n",
    "df2['cluster'] = kmeans.labels_\n",
    "final_centroid = kmeans.cluster_centers_\n",
    "\n",
    "is_cluster = df2['cluster'] == 0\n",
    "is_c0 = df2[is_cluster]\n",
    "is_c0\n",
    "\n",
    "is_cluster = df2['cluster'] == 1\n",
    "is_c1 = df2[is_cluster]\n",
    "is_c1\n",
    "\n",
    "is_cluster = df2['cluster'] == 2\n",
    "is_c2 = df2[is_cluster]\n",
    "is_c2\n",
    "\n",
    "plt.figure(figsize=(10, 8))\n",
    "plt.scatter(is_c0['density'], is_c0['distan'], label='0')\n",
    "plt.scatter(is_c1['density'], is_c1['distan'], label='1')\n",
    "plt.scatter(is_c2['density'], is_c2['distan'], label='2')\n",
    "plt.legend()\n",
    "plt.grid()\n",
    "plt.show()"
   ]
  },
  {
   "cell_type": "code",
   "execution_count": 4,
   "id": "532918ee-fd5b-4059-8194-1e5dea93ff83",
   "metadata": {},
   "outputs": [
    {
     "name": "stdout",
     "output_type": "stream",
     "text": [
      "[0 1 2]\n"
     ]
    },
    {
     "data": {
      "image/png": "[encoded data removed]",
      "text/plain": [
       "<Figure size 720x576 with 1 Axes>"
      ]
     },
     "metadata": {
      "needs_background": "light"
     },
     "output_type": "display_data"
    },
    {
     "name": "stdout",
     "output_type": "stream",
     "text": [
      "396 349 38\n"
     ]
    }
   ],
   "source": [
    "from sklearn.decomposition import PCA\n",
    "from sklearn.preprocessing import MinMaxScaler\n",
    "\n",
    "# kmeans = KMeans(n_clusters=3,random_state=0, max_iter=10).fit(df2)\n",
    "kmeans = KMeans(n_clusters=3, random_state=0, init='k-means++').fit(df2)\n",
    "\n",
    "df2['cluster'] = kmeans.labels_\n",
    "final_centroid = kmeans.cluster_centers_\n",
    "df2\n",
    "\n",
    "pca = PCA(n_components=2)\n",
    "X_p = pca.fit_transform(df2)\n",
    "\n",
    "principalDf = pd.DataFrame(data=X_p, columns = ['PC1','PC2'])\n",
    "# 주성분으로 이루어진 데이터 프레임 구성\n",
    "principalDf\n",
    "\n",
    "principalDf['cluster'] = df2['cluster']\n",
    "print(principalDf['cluster'].unique())\n",
    "\n",
    "is_cluster = principalDf['cluster'] == 0\n",
    "is_c0 = principalDf[is_cluster]\n",
    "is_c0\n",
    "\n",
    "is_cluster = principalDf['cluster'] == 1\n",
    "is_c1 = principalDf[is_cluster]\n",
    "is_c1\n",
    "\n",
    "is_cluster = principalDf['cluster'] == 2\n",
    "is_c2 = principalDf[is_cluster]\n",
    "is_c2\n",
    "\n",
    "plt.figure(figsize=(10, 8))\n",
    "plt.scatter(is_c0['PC1'], is_c0['PC2'], label='0')\n",
    "plt.scatter(is_c1['PC1'], is_c1['PC2'], label='1')\n",
    "plt.scatter(is_c2['PC1'], is_c2['PC2'], label='2')\n",
    "plt.legend()\n",
    "plt.grid()\n",
    "plt.show()\n",
    "\n",
    "print(len(is_c0), len(is_c1), len(is_c2))"
   ]
  },
  {
   "cell_type": "code",
   "execution_count": 7,
   "id": "08723168-5bfd-4ea1-916b-4536a62de309",
   "metadata": {},
   "outputs": [
    {
     "data": {
      "text/html": [
       "<div>\n",
       "<style scoped>\n",
       "    .dataframe tbody tr th:only-of-type {\n",
       "        vertical-align: middle;\n",
       "    }\n",
       "\n",
       "    .dataframe tbody tr th {\n",
       "        vertical-align: top;\n",
       "    }\n",
       "\n",
       "    .dataframe thead th {\n",
       "        text-align: right;\n",
       "    }\n",
       "</style>\n",
       "<table border=\"1\" class=\"dataframe\">\n",
       "  <thead>\n",
       "    <tr style=\"text-align: right;\">\n",
       "      <th></th>\n",
       "      <th>area</th>\n",
       "      <th>value</th>\n",
       "      <th>density</th>\n",
       "      <th>workman</th>\n",
       "      <th>marketNum</th>\n",
       "      <th>restaurant</th>\n",
       "      <th>distan</th>\n",
       "      <th>riverNum</th>\n",
       "      <th>parkNum</th>\n",
       "      <th>waterNum</th>\n",
       "    </tr>\n",
       "    <tr>\n",
       "      <th>cluster</th>\n",
       "      <th></th>\n",
       "      <th></th>\n",
       "      <th></th>\n",
       "      <th></th>\n",
       "      <th></th>\n",
       "      <th></th>\n",
       "      <th></th>\n",
       "      <th></th>\n",
       "      <th></th>\n",
       "      <th></th>\n",
       "    </tr>\n",
       "  </thead>\n",
       "  <tbody>\n",
       "    <tr>\n",
       "      <th>0</th>\n",
       "      <td>1.0</td>\n",
       "      <td>3.0</td>\n",
       "      <td>3.0</td>\n",
       "      <td>1.0</td>\n",
       "      <td>1.0</td>\n",
       "      <td>1.0</td>\n",
       "      <td>2.0</td>\n",
       "      <td>1.0</td>\n",
       "      <td>1.0</td>\n",
       "      <td>1.0</td>\n",
       "    </tr>\n",
       "    <tr>\n",
       "      <th>1</th>\n",
       "      <td>2.0</td>\n",
       "      <td>1.0</td>\n",
       "      <td>2.0</td>\n",
       "      <td>2.0</td>\n",
       "      <td>3.0</td>\n",
       "      <td>2.0</td>\n",
       "      <td>1.0</td>\n",
       "      <td>2.0</td>\n",
       "      <td>2.0</td>\n",
       "      <td>3.0</td>\n",
       "    </tr>\n",
       "    <tr>\n",
       "      <th>2</th>\n",
       "      <td>3.0</td>\n",
       "      <td>2.0</td>\n",
       "      <td>1.0</td>\n",
       "      <td>3.0</td>\n",
       "      <td>3.0</td>\n",
       "      <td>3.0</td>\n",
       "      <td>3.0</td>\n",
       "      <td>3.0</td>\n",
       "      <td>3.0</td>\n",
       "      <td>3.0</td>\n",
       "    </tr>\n",
       "  </tbody>\n",
       "</table>\n",
       "</div>"
      ],
      "text/plain": [
       "         area  value  density  workman  marketNum  restaurant  distan  \\\n",
       "cluster                                                                 \n",
       "0         1.0    3.0      3.0      1.0        1.0         1.0     2.0   \n",
       "1         2.0    1.0      2.0      2.0        3.0         2.0     1.0   \n",
       "2         3.0    2.0      1.0      3.0        3.0         3.0     3.0   \n",
       "\n",
       "         riverNum  parkNum  waterNum  \n",
       "cluster                               \n",
       "0             1.0      1.0       1.0  \n",
       "1             2.0      2.0       3.0  \n",
       "2             3.0      3.0       3.0  "
      ]
     },
     "execution_count": 7,
     "metadata": {},
     "output_type": "execute_result"
    }
   ],
   "source": [
    "rank = df[['area', 'value', 'density', 'workman', 'marketNum', 'restaurant', 'distan', 'riverNum','parkNum', 'waterNum']]\n",
    "rank = MinMaxScaler().fit_transform(rank)\n",
    "rank = pd.DataFrame(rank, columns=['area', 'value', 'density', 'workman', 'marketNum', 'restaurant', 'distan','riverNum', 'parkNum', 'waterNum'])\n",
    "rank['cluster'] =  df2['cluster']\n",
    "\n",
    "group = rank.groupby(rank['cluster'])\n",
    "group.mean().rank(method='max', ascending=False)"
   ]
  },
  {
   "cell_type": "code",
   "execution_count": 54,
   "id": "9cb35c03-e722-4e95-98da-7cf9452e07d2",
   "metadata": {},
   "outputs": [],
   "source": [
    "rank.to_csv('군집결과.csv',  encoding='euc-kr')"
   ]
  },
  {
   "cell_type": "code",
   "execution_count": 55,
   "id": "2369cebf-87b0-4cf4-a360-7f89f5e3acfc",
   "metadata": {},
   "outputs": [],
   "source": [
    "df['cluster'] = df2['cluster']\n",
    "df.to_csv('군집결과_정규화X.csv',  encoding='euc-kr')"
   ]
  }
 ],
 "metadata": {
  "kernelspec": {
   "display_name": "bdata",
   "language": "python",
   "name": "bdata"
  },
  "language_info": {
   "codemirror_mode": {
    "name": "ipython",
    "version": 3
   },
   "file_extension": ".py",
   "mimetype": "text/x-python",
   "name": "python",
   "nbconvert_exporter": "python",
   "pygments_lexer": "ipython3",
   "version": "3.7.10"
  }
 },
 "nbformat": 4,
 "nbformat_minor": 5
}
